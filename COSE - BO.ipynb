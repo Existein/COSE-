{
 "cells": [
  {
   "cell_type": "code",
   "execution_count": null,
   "metadata": {},
   "outputs": [],
   "source": [
    "import sys\n",
    "import subprocess\n",
    "from bayes_opt import BayesianOptimization\n",
    "from bayes_opt import UtilityFunction\n",
    "from bayes_opt import SequentialDomainReductionTransformer\n",
    "bounds_transformer = SequentialDomainReductionTransformer()\n",
    "import matplotlib as mtp\n",
    "mtp.rcParams.update({'font.size':16})\n",
    "import numpy as np\n",
    "from random import *\n",
    "import matplotlib.pyplot as plt\n",
    "from matplotlib import gridspec\n",
    "%matplotlib inline\n",
    "seed(5000)\n",
    "factor = 5000 #Why?"
   ]
  },
  {
   "cell_type": "code",
   "execution_count": null,
   "metadata": {},
   "outputs": [],
   "source": [
    "\"\"\"def get_runtime(x): # or make a call to FaaS platform to get runtime or cost \n",
    "    pars = [2.67347860e+00, 2.18887259e+01, 5.49402930e-03]\n",
    "    return (pars[0]+pars[1]*(1-pars[2])**(x-128))/factor\"\"\"\n",
    "\n",
    "def get_exectime(memory, cpu):\n",
    "    return\n",
    "\n",
    "\"\"\"def get_lambda_cost (memory, exec_time): # calculate AWS Lambda cost, given memory allocated and execution time\n",
    "    return 0.0000002+(memory/1024.0)*exec_time*0.00001667\"\"\"\n",
    "\n",
    "def get_gcf_cost (memory, cpu, exec_time):\n",
    "    return"
   ]
  },
  {
   "cell_type": "code",
   "execution_count": null,
   "metadata": {
    "scrolled": false
   },
   "outputs": [],
   "source": [
    "x = np.linspace(128, 32768, 33000-128).reshape(-1, 1)\n",
    "y = np.linspace(0.083, 8, 800 - 8).reshape(-1, 1)\n",
    "# node_type = np.linspace(0, 10000, 2).reshape(-1, 1)\n",
    "z_c = get_exectime(x, y)*factor\n",
    "plt.plot(x, y, z_c, label='Ground Truth')\n",
    "plt.legend(loc='upper right')\n",
    "plt.show()"
   ]
  },
  {
   "cell_type": "code",
   "execution_count": null,
   "metadata": {
    "scrolled": false
   },
   "outputs": [],
   "source": [
    "# define exploration space i.e. memory values \n",
    "pbounds = { 'x': (128, 32768), 'y': (0.083, 8)}\n",
    "\n",
    "optimizer = BayesianOptimization(\n",
    "    f=None,\n",
    "    pbounds=pbounds,\n",
    "    verbose=2,  # verbose = 1 prints only when a maximum is observed, verbose = 0 is silent\n",
    "    random_state=randint(128, 32768) # seed를 128, 3008로 잡은 이유가 있는지?\n",
    ")\n",
    "\n",
    "# BO parameters \n",
    "\n",
    "acq_type = \"ei\"\n",
    "xi_value = 0.001 # more exploration \n",
    "kappa_value = 10.0\n",
    "alpha_value = 0.1\n",
    "utility = UtilityFunction(kind=acq_type, kappa = 10, xi=xi_value)\n"
   ]
  },
  {
   "cell_type": "code",
   "execution_count": null,
   "metadata": {},
   "outputs": [],
   "source": [
    "def posterior(optimizer, x_obs, y_obs, z_obs, grid):\n",
    "    optimizer._gp.fit(x_obs, y_obs)\n",
    "\n",
    "    mu, sigma = optimizer._gp.predict(grid, return_std=True)\n",
    "    return mu, sigma\n",
    "\n",
    "\n",
    "def plot_gp(optimizer, x, y, z_c, acq_type, xi_value, kappa_value):\n",
    "    global graph_counter\n",
    "    fig = plt.figure(figsize=(7, 7, 7))\n",
    "    steps = len(optimizer.space)\n",
    "    gs = gridspec.GridSpec(2, 1, height_ratios=[3, 1]) \n",
    "    axis = plt.subplot(gs[0])    \n",
    "    plt.subplots_adjust(wspace=0, hspace=0.12)\n",
    "    x_obs = np.array([[res[\"params\"][\"x\"]] for res in optimizer.res])\n",
    "    y_obs = np.array([[res[\"params\"][\"y\"]] for res in optimizer.res])\n",
    "    z_obs = np.array([res[\"target\"] for res in optimizer.res])\n",
    "    mu, sigma = posterior(optimizer, x_obs, y_obs, z_obs, x)\n",
    "    # axis.plot(x, get_runtime(x)*factor, linewidth=3, label='Measured')\n",
    "    # axis.plot(x, mu*factor, '--', color='k', label='Prediction')\n",
    "    # axis.plot(x_obs.flatten(), get_runtime(x_obs)*factor, 'D', markersize=8, label=u'Observations', color='r')\n",
    "    # axis.fill_between(x.flatten(), (mu + sigma)*factor, (mu - sigma)*factor, alpha=0.3)\n",
    "\n",
    "    axis.set_xlim((128, 32768))\n",
    "    axis.set_ylim((0.083, 8))\n",
    "    axis.set_zlim((0, 40))\n",
    "    axis.set_xlabel('Memory (MB)', fontdict={'size':20})\n",
    "    axis.set_ylabel('vCPU', fontdict={'size':20})\n",
    "    axis.set_zlabel('Execution Time (ms)', fontdict={'size':20})\n",
    "    z_max = optimizer.max['target']\n",
    "    axis.legend(loc=1, bbox_to_anchor=(0.77, 0.99), borderaxespad=0., ncol=2, prop={'size': 14})\n",
    "    return mu,sigma"
   ]
  },
  {
   "cell_type": "code",
   "execution_count": null,
   "metadata": {
    "scrolled": false
   },
   "outputs": [],
   "source": [
    "# BO in action ...\n",
    "counter = 1\n",
    "total_samples = 10 \n",
    "\n",
    "while True:\n",
    "    \n",
    "    next_point = optimizer.suggest(utility)\n",
    "    next_point['x'] = int(round(float(next_point['x']))/ float(64)) * 64\n",
    "    next_point['y'] = float(next_point['y'])\n",
    "    print(\"Next point to probe is:\", next_point)\n",
    "    # target = get_runtime(**next_point)\n",
    "    target = get_exectime(**next_point)\n",
    "    print(\"Found the target value to be:\", target)\n",
    "    next_point['x'] = next_point['x'] + random()\n",
    "    next_point['y'] = next_point['y'] + random()\n",
    "    optimizer.register(params=next_point, target=target)\n",
    "    optimizer.set_gp_params(alpha=alpha_value)\n",
    "    optimizer.set_gp_params(normalize_z=True)\n",
    "\n",
    "    mu, sigma = plot_gp(optimizer, x, y, z_c, acq_type, xi_value, kappa_value)\n",
    "    print ('Samples so far:', counter)\n",
    "    counter+=1\n",
    "    if counter > total_samples:\n",
    "        break\n",
    "    \n",
    "print(\"BEST:\", optimizer.max)\n"
   ]
  },
  {
   "cell_type": "code",
   "execution_count": null,
   "metadata": {},
   "outputs": [],
   "source": [
    "##plot grounth truth and prediction"
   ]
  },
  {
   "cell_type": "code",
   "execution_count": null,
   "metadata": {},
   "outputs": [],
   "source": [
    "predicted_runtimes =  mu*factor\n",
    "\n",
    "plt.plot(x, get_runtime(x)*factor, linewidth=3, label='ground truth')\n",
    "plt.plot(x,predicted_runtimes, '--', color='k', label='Prediction')\n",
    "plt.xlabel('memory (MB)')\n",
    "plt.ylabel('runtime (s)')\n",
    "plt.legend()\n"
   ]
  }
 ],
 "metadata": {
  "kernelspec": {
   "display_name": "Python 3 (ipykernel)",
   "language": "python",
   "name": "python3"
  },
  "language_info": {
   "codemirror_mode": {
    "name": "ipython",
    "version": 3
   },
   "file_extension": ".py",
   "mimetype": "text/x-python",
   "name": "python",
   "nbconvert_exporter": "python",
   "pygments_lexer": "ipython3",
   "version": "3.12.2"
  }
 },
 "nbformat": 4,
 "nbformat_minor": 2
}
